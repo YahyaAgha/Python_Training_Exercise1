{
 "cells": [
  {
   "cell_type": "markdown",
   "metadata": {},
   "source": [
    "<div style=\"display: flex; align-items: center;\">\n",
    "    <img src=\"../img/es_logo.png\" alt=\"title\" style=\"margin-right: 20px;\">\n",
    "    <h1>Python Syntax and Data Types</h1>\n",
    "</div>"
   ]
  },
  {
   "cell_type": "markdown",
   "metadata": {},
   "source": [
    "### Submission Instructions\n",
    "\n",
    "- You should complete the code in the code cells provided.\n",
    "- Once you have completed the notebook, you should submit the completed notebook by uploading it to your github profile and sharing the github link as the submission.\n",
    "- your github repostory should contain the completed notebook as well as a README.md file that summarizes what you have learned in this module."
   ]
  },
  {
   "cell_type": "markdown",
   "metadata": {},
   "source": [
    "Complete the code to print out Hello Python! in a formatted string.\n"
   ]
  },
  {
   "cell_type": "code",
   "execution_count": null,
   "metadata": {},
   "outputs": [],
   "source": [
    "message = \"Python\"\n",
    "Greeting = None\n",
    "print(Greeting)"
   ]
  },
  {
   "cell_type": "code",
   "execution_count": 8,
   "metadata": {},
   "outputs": [
    {
     "name": "stdout",
     "output_type": "stream",
     "text": [
      "Hello Python!\n"
     ]
    }
   ],
   "source": [
    "## solution\n",
    "\n",
    "message = \"Python\"\n",
    "Greeting = \"Hello {}!\".format(message)\n",
    "print(Greeting)"
   ]
  },
  {
   "cell_type": "markdown",
   "metadata": {},
   "source": [
    "Correct the following code to:\n",
    "1. Perform the arithmetic operation on a and b.\n",
    "2. Perform concatenation on a and b."
   ]
  },
  {
   "cell_type": "code",
   "execution_count": null,
   "metadata": {},
   "outputs": [],
   "source": [
    "a = 5\n",
    "b = \"10\"\n",
    "\n",
    "# perform addition expected output is 15\n",
    "addition = a + b\n",
    "print(addition)\n",
    "\n",
    "# perform concatenation expected output is 510\n",
    "concatenation = a + b\n",
    "print(concatenation)"
   ]
  },
  {
   "cell_type": "code",
   "execution_count": 16,
   "metadata": {},
   "outputs": [
    {
     "name": "stdout",
     "output_type": "stream",
     "text": [
      "15\n",
      "510\n"
     ]
    }
   ],
   "source": [
    "## solution\n",
    "## we can't add str and int.\n",
    "# so we need to connvert the type first of the str value to int.\n",
    "\n",
    "a = 5\n",
    "b = \"10\"\n",
    "\n",
    "addition = a + int(b)\n",
    "print(addition)\n",
    "\n",
    "# make the a as string to concatenate\n",
    "concatenation = str(a) + b\n",
    "print(concatenation)\n",
    "\n",
    "\n"
   ]
  },
  {
   "cell_type": "markdown",
   "metadata": {},
   "source": [
    "Complete the code to extract and print out the domain name from the email address."
   ]
  },
  {
   "cell_type": "code",
   "execution_count": null,
   "metadata": {},
   "outputs": [],
   "source": [
    "email = \"python_dev@estarta.com\"\n",
    "\n",
    "# extract domain from email\n",
    "domain = None\n",
    "print(domain)"
   ]
  },
  {
   "cell_type": "code",
   "execution_count": 19,
   "metadata": {},
   "outputs": [
    {
     "name": "stdout",
     "output_type": "stream",
     "text": [
      "estarta.com\n"
     ]
    }
   ],
   "source": [
    "## Solution\n",
    "email = \"python_dev@estarta.com\"\n",
    "\n",
    "# manually we could assign the domain value manually.\n",
    "# or we have the split () built in function feature to split after @..\n",
    "\n",
    "domain= email.split('@') ## that would devide/split to 2 parts one before and one after so we could choone the digit number \n",
    "domain= email.split('@')[1]\n",
    "print (domain)"
   ]
  },
  {
   "cell_type": "markdown",
   "metadata": {},
   "source": [
    "Perform the following operations on the \"Cars\" list:\n",
    "1. Add \"Honda\" to the list.\n",
    "2. Replace the second element with \"Ford\".\n",
    "3. Remove \"Toyota\" from the list.\n",
    "4. Check if \"Subaru\" is in the list."
   ]
  },
  {
   "cell_type": "code",
   "execution_count": 26,
   "metadata": {},
   "outputs": [
    {
     "name": "stdout",
     "output_type": "stream",
     "text": [
      "['Toyota', 'Mercedes', 'BMW', 'Jeep', 'Honda']\n",
      "['Toyota', 'Ford', 'BMW', 'Jeep', 'Honda']\n",
      "['Ford', 'BMW', 'Jeep', 'Honda']\n",
      "False\n",
      "True\n"
     ]
    }
   ],
   "source": [
    "# solution...\n",
    "cars = [\"Toyota\", \"Mercedes\", \"BMW\", \"Jeep\"]\n",
    "\n",
    "# add \"Honda\" to the list\n",
    "\n",
    "cars.append (\"Honda\")\n",
    "\n",
    "print(cars)\n",
    "\n",
    "# replace the second element with \"Ford\"\n",
    "\n",
    "cars[1] = \"Ford\"\n",
    "\n",
    "print (cars)\n",
    "\n",
    "# remove Toyota from the list\n",
    "\n",
    "cars.remove(\"Toyota\")\n",
    "\n",
    "print(cars)\n",
    "\n",
    "# print True if Subaru is in the list else False\n",
    "\n",
    "# we could use many ways here but the simpest way using in operator as below.\n",
    "\n",
    "print (\"Subaru\" in cars)\n",
    "\n",
    "# now lets append and check again.\n",
    "\n",
    "cars.append(\"Subaru\")\n",
    "\n",
    "print (\"Subaru\" in cars)\n"
   ]
  },
  {
   "cell_type": "markdown",
   "metadata": {},
   "source": [
    "Complete the code to do the following:\n",
    "1. Create a new dictionary with the following key-value pairs: \"name\": \"Ahmad\", \"age\": 25, \"occupation\": \"doctor\", \"country\": \"Jordan\"\n",
    "2. Add a new key-value pair with \"city\": \"Amman\"\n",
    "3. Update the occupation to \"Surgeon\"\n",
    "4. Remove the \"country\" key-value pair from the dictionary.\n",
    "5. print out the updated dictionary."
   ]
  },
  {
   "cell_type": "code",
   "execution_count": null,
   "metadata": {},
   "outputs": [],
   "source": [
    "# complete the code to perform the operations listed above\n",
    "person = {}\n",
    "\n",
    "\n",
    "print(person)"
   ]
  },
  {
   "cell_type": "code",
   "execution_count": 28,
   "metadata": {},
   "outputs": [
    {
     "name": "stdout",
     "output_type": "stream",
     "text": [
      "{'name': 'Ahmad', 'age': 25, 'occupation': 'doctor', 'country': 'Jordan', 'city': 'Amman'}\n"
     ]
    }
   ],
   "source": [
    "## SOlution .....\n",
    "\n",
    "person = {\"name\": \"Ahmad\", \"age\": 25, \"occupation\": \"doctor\", \"country\": \"Jordan\"}\n",
    "\n",
    "person [\"city\"]=\"Amman\"\n",
    "\n",
    "print(person)"
   ]
  },
  {
   "cell_type": "markdown",
   "metadata": {},
   "source": [
    "Complete the folowing opertasions on the \"numbers\" set:\n",
    "1. Check if 4 is in the set.\n",
    "2. Add 5 to the set.\n",
    "3. Remove 3 from the set.\n",
    "4. Try to add a duplicate element to the set.\n",
    "5. Create a new set that contains numbers from in the range of m+1 to m+10, where m is the maximum number in the \"numbers\" set.\n",
    "6. Create a set that is the union of the two sets."
   ]
  },
  {
   "cell_type": "code",
   "execution_count": null,
   "metadata": {},
   "outputs": [],
   "source": [
    "numbers = {2, 5, 16, 8, 7, 9, 3, 1}\n",
    "\n",
    "# your code here\n",
    "\n",
    "print(numbers)\n",
    "# print the union of the two sets\n",
    "#print(new_set)"
   ]
  },
  {
   "cell_type": "code",
   "execution_count": 36,
   "metadata": {},
   "outputs": [
    {
     "name": "stdout",
     "output_type": "stream",
     "text": [
      "False\n",
      "4 not in the numbers set\n",
      "{1, 2, 3, 5, 7, 8, 9, 16}\n",
      "{1, 2, 5, 7, 8, 9, 16}\n",
      "Max number in set is:  16\n",
      "{17, 18, 19, 20, 21, 22, 23, 24, 25, 26}\n",
      "THe needed Union part:  {1, 2, 5, 7, 8, 9, 16, 17, 18, 19, 20, 21, 22, 23, 24, 25, 26}\n"
     ]
    }
   ],
   "source": [
    "## SolUtion\n",
    "numbers = {2, 5, 16, 8, 7, 9, 3, 1}\n",
    "# Check if 4 is in the set.\n",
    "print (4 in numbers)\n",
    "\n",
    "#also we could use if condition.\n",
    "\n",
    "condition = 4 in numbers\n",
    "\n",
    "if (condition == True):\n",
    "    print (\"4 in the numbers set\")\n",
    "else:\n",
    "    print (\"4 not in the numbers set\")\n",
    "\n",
    "\n",
    "## Add 5 to the set.\n",
    "\n",
    "numbers.add(5)\n",
    "\n",
    "print (numbers)\n",
    "\n",
    "## remove 3 from set\n",
    "\n",
    "numbers.remove(3)\n",
    "\n",
    "print (numbers)\n",
    "\n",
    "## Try to add a duplicate element to the set.\n",
    "\n",
    "## set has no duplicate values, we tried above to add 5 which wasn't appended as duplicate value.\n",
    "\n",
    "\n",
    "##  Create a new set that contains numbers from in the range of m+1 to m+10, \n",
    "# where m is the maximum number in the \"numbers\" set.\n",
    "\n",
    " \n",
    "m = max(numbers)\n",
    "print(\"Max number in set is: \", m)\n",
    "\n",
    "new_set = set(range(m+1, m+11))\n",
    "\n",
    "print(new_set)\n",
    "\n",
    "\n",
    "\n",
    "\n",
    "union_set = numbers.union(new_set)\n",
    "\n",
    "print (\"THe needed Union part: \", union_set)\n",
    "\n"
   ]
  }
 ],
 "metadata": {
  "kernelspec": {
   "display_name": "Python 3",
   "language": "python",
   "name": "python3"
  },
  "language_info": {
   "codemirror_mode": {
    "name": "ipython",
    "version": 3
   },
   "file_extension": ".py",
   "mimetype": "text/x-python",
   "name": "python",
   "nbconvert_exporter": "python",
   "pygments_lexer": "ipython3",
   "version": "3.12.3"
  }
 },
 "nbformat": 4,
 "nbformat_minor": 2
}
